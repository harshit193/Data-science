{
 "cells": [
  {
   "cell_type": "code",
   "execution_count": 1,
   "id": "0b8ff820",
   "metadata": {},
   "outputs": [],
   "source": [
    "##dict -- key value pair\n",
    "##dict = {}\n",
    "##dict --ordered ,mutuable , and do not allow duplicates"
   ]
  },
  {
   "cell_type": "code",
   "execution_count": 2,
   "id": "8b3fe2ff",
   "metadata": {},
   "outputs": [
    {
     "name": "stdout",
     "output_type": "stream",
     "text": [
      "{'name': ['hello', 'world'], 'age': {'age1': 10, 'age2': 20}, 'hobby': 'coding'}\n",
      "<class 'dict'>\n"
     ]
    }
   ],
   "source": [
    "dt = {\n",
    "    \"name\" : [\"hello\",\"world\"],\n",
    "    \"age\" : 20,\n",
    "    \"hobby\" : \"coding\",\n",
    "    \"age\" : {\"age1\" : 10 , \"age2\" : 20}\n",
    "}\n",
    "print(dt)\n",
    "print(type(dt))"
   ]
  },
  {
   "cell_type": "code",
   "execution_count": 3,
   "id": "9808759a",
   "metadata": {},
   "outputs": [
    {
     "data": {
      "text/plain": [
       "{'name': ['hello', 'world'],\n",
       " 'age': {'age1': 10, 'age2': 20},\n",
       " 'hobby': 'basketball'}"
      ]
     },
     "execution_count": 3,
     "metadata": {},
     "output_type": "execute_result"
    }
   ],
   "source": [
    "dt[\"hobby\"] = \"basketball\"\n",
    "dt"
   ]
  },
  {
   "cell_type": "code",
   "execution_count": 7,
   "id": "e1260fd0",
   "metadata": {},
   "outputs": [
    {
     "data": {
      "text/plain": [
       "{'name': 'hello', 'age': 20, 'hobby': 'coding'}"
      ]
     },
     "execution_count": 7,
     "metadata": {},
     "output_type": "execute_result"
    }
   ],
   "source": [
    "dt = {\n",
    "    \"name\" : \"hello\",\n",
    "    \"age\" : 20,\n",
    "    \"hobby\" : \"coding\"}\n",
    "# dt.get(\"name\")\n",
    "# dt.items()\n",
    "# dt.keys()\n",
    "# dt.values()\n",
    "# dt.pop(\"age\")\n",
    "# dt.popitem()\n",
    "# dt.update({\"hobby\" : \"basketball\",\"class\": \"10th\"})\n",
    "dt"
   ]
  },
  {
   "cell_type": "code",
   "execution_count": 8,
   "id": "771b8731",
   "metadata": {},
   "outputs": [],
   "source": [
    "# dt = {\"a\":1}\n",
    "# value = dt.setdefault(\"b\",2)\n",
    "# print(dt)"
   ]
  },
  {
   "cell_type": "code",
   "execution_count": 9,
   "id": "7e80cb44",
   "metadata": {},
   "outputs": [
    {
     "name": "stdout",
     "output_type": "stream",
     "text": [
      "{'h': 10, 'e': 10, 'l': 10, 'o': 10}\n"
     ]
    }
   ],
   "source": [
    "#fromkeys\n",
    "dt = {}.fromkeys(\"hello\",10)\n",
    "print(dt)"
   ]
  },
  {
   "cell_type": "code",
   "execution_count": null,
   "id": "42b94697",
   "metadata": {},
   "outputs": [],
   "source": []
  }
 ],
 "metadata": {
  "kernelspec": {
   "display_name": "Python 3",
   "language": "python",
   "name": "python3"
  },
  "language_info": {
   "codemirror_mode": {
    "name": "ipython",
    "version": 3
   },
   "file_extension": ".py",
   "mimetype": "text/x-python",
   "name": "python",
   "nbconvert_exporter": "python",
   "pygments_lexer": "ipython3",
   "version": "3.11.9"
  }
 },
 "nbformat": 4,
 "nbformat_minor": 5
}
