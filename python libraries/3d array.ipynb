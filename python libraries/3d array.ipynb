{
 "cells": [
  {
   "cell_type": "code",
   "execution_count": 5,
   "id": "baabce1b",
   "metadata": {},
   "outputs": [
    {
     "data": {
      "text/plain": [
       "array([[[  0,   1,   2,   3,   4],\n",
       "        [  5,   6,   7,   8,   9],\n",
       "        [ 10,  11,  12,  13,  14],\n",
       "        [ 15,  16,  17,  18,  19],\n",
       "        [ 20,  21,  22,  23,  24],\n",
       "        [ 25,  26,  27,  28,  29],\n",
       "        [ 30,  31,  32,  33,  34],\n",
       "        [ 35,  36,  37,  38,  39],\n",
       "        [ 40,  41,  42,  43,  44],\n",
       "        [ 45,  46,  47,  48,  49],\n",
       "        [ 50,  51,  52,  53,  54],\n",
       "        [ 55,  56,  57,  58,  59],\n",
       "        [ 60,  61,  62,  63,  64],\n",
       "        [ 65,  66,  67,  68,  69],\n",
       "        [ 70,  71,  72,  73,  74]],\n",
       "\n",
       "       [[ 75,  76,  77,  78,  79],\n",
       "        [ 80,  81,  82,  83,  84],\n",
       "        [ 85,  86,  87,  88,  89],\n",
       "        [ 90,  91,  92,  93,  94],\n",
       "        [ 95,  96,  97,  98,  99],\n",
       "        [100, 101, 102, 103, 104],\n",
       "        [105, 106, 107, 108, 109],\n",
       "        [110, 111, 112, 113, 114],\n",
       "        [115, 116, 117, 118, 119],\n",
       "        [120, 121, 122, 123, 124],\n",
       "        [125, 126, 127, 128, 129],\n",
       "        [130, 131, 132, 133, 134],\n",
       "        [135, 136, 137, 138, 139],\n",
       "        [140, 141, 142, 143, 144],\n",
       "        [145, 146, 147, 148, 149]],\n",
       "\n",
       "       [[150, 151, 152, 153, 154],\n",
       "        [155, 156, 157, 158, 159],\n",
       "        [160, 161, 162, 163, 164],\n",
       "        [165, 166, 167, 168, 169],\n",
       "        [170, 171, 172, 173, 174],\n",
       "        [175, 176, 177, 178, 179],\n",
       "        [180, 181, 182, 183, 184],\n",
       "        [185, 186, 187, 188, 189],\n",
       "        [190, 191, 192, 193, 194],\n",
       "        [195, 196, 197, 198, 199],\n",
       "        [200, 201, 202, 203, 204],\n",
       "        [205, 206, 207, 208, 209],\n",
       "        [210, 211, 212, 213, 214],\n",
       "        [215, 216, 217, 218, 219],\n",
       "        [220, 221, 222, 223, 224]]])"
      ]
     },
     "execution_count": 5,
     "metadata": {},
     "output_type": "execute_result"
    }
   ],
   "source": [
    "# 3d array\n",
    "import numpy as np\n",
    "arr10 = np.arange(225).reshape(3,15,5)\n",
    "arr10"
   ]
  },
  {
   "cell_type": "code",
   "execution_count": 8,
   "id": "bc5c0e2c",
   "metadata": {},
   "outputs": [
    {
     "data": {
      "text/plain": [
       "array([[[  7,   8],\n",
       "        [ 12,  13],\n",
       "        [ 17,  18]],\n",
       "\n",
       "       [[ 82,  83],\n",
       "        [ 87,  88],\n",
       "        [ 92,  93]],\n",
       "\n",
       "       [[157, 158],\n",
       "        [162, 163],\n",
       "        [167, 168]]])"
      ]
     },
     "execution_count": 8,
     "metadata": {},
     "output_type": "execute_result"
    }
   ],
   "source": [
    "arr10[0:,1:4 , 2:4]"
   ]
  },
  {
   "cell_type": "code",
   "execution_count": 15,
   "id": "39811b80",
   "metadata": {},
   "outputs": [],
   "source": [
    "np.max(arr10)\n",
    "np.min(arr10)\n",
    "np.sum(arr10)\n",
    "np.mean(arr10)\n",
    "np.median(arr10)\n",
    "np.std(arr10)\n",
    "arr10.sort()"
   ]
  },
  {
   "cell_type": "code",
   "execution_count": null,
   "id": "1be9e931",
   "metadata": {},
   "outputs": [
    {
     "data": {
      "text/plain": [
       "array([2, 0, 1, 3])"
      ]
     },
     "execution_count": 13,
     "metadata": {},
     "output_type": "execute_result"
    }
   ],
   "source": [
    "arr11 =np.array([2,5,1,9])\n",
    "arr11.argsort()\n",
    "# ig give the sort "
   ]
  },
  {
   "cell_type": "code",
   "execution_count": 18,
   "id": "3d51a0b2",
   "metadata": {},
   "outputs": [
    {
     "data": {
      "text/plain": [
       "array([ 4,  7,  3, 11])"
      ]
     },
     "execution_count": 18,
     "metadata": {},
     "output_type": "execute_result"
    }
   ],
   "source": [
    "arr11 =np.array([2,5,1,9])\n",
    "arr11 + 2"
   ]
  },
  {
   "cell_type": "code",
   "execution_count": null,
   "id": "c418880e",
   "metadata": {},
   "outputs": [],
   "source": []
  }
 ],
 "metadata": {
  "kernelspec": {
   "display_name": "Python 3",
   "language": "python",
   "name": "python3"
  },
  "language_info": {
   "codemirror_mode": {
    "name": "ipython",
    "version": 3
   },
   "file_extension": ".py",
   "mimetype": "text/x-python",
   "name": "python",
   "nbconvert_exporter": "python",
   "pygments_lexer": "ipython3",
   "version": "3.11.9"
  }
 },
 "nbformat": 4,
 "nbformat_minor": 5
}
