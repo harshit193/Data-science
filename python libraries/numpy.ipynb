{
 "cells": [
  {
   "cell_type": "code",
   "execution_count": 1,
   "id": "9f998102",
   "metadata": {},
   "outputs": [
    {
     "data": {
      "text/plain": [
       "'2.3.0'"
      ]
     },
     "execution_count": 1,
     "metadata": {},
     "output_type": "execute_result"
    }
   ],
   "source": [
    "##check  numpy version\n",
    "import numpy as np\n",
    "# id , 2d , 3d, 4d \n",
    "np.__version__\n"
   ]
  },
  {
   "cell_type": "code",
   "execution_count": null,
   "id": "d0a67633",
   "metadata": {},
   "outputs": [
    {
     "data": {
      "text/plain": [
       "array([1, 2, 3, 4, 5])"
      ]
     },
     "execution_count": 7,
     "metadata": {},
     "output_type": "execute_result"
    }
   ],
   "source": [
    "# lst = [1,2,3,4,5]\n",
    "# ar1= np.array(lst)\n",
    "ar1= np.array([1,2,3,4,5]) ## we can take it like this also\n",
    "ar1\n",
    "# print(type(ar1))"
   ]
  },
  {
   "cell_type": "code",
   "execution_count": null,
   "id": "a6884462",
   "metadata": {},
   "outputs": [
    {
     "data": {
      "text/plain": [
       "array([1, 2, 3, 4, 5, 6, 7, 8, 9])"
      ]
     },
     "execution_count": 8,
     "metadata": {},
     "output_type": "execute_result"
    }
   ],
   "source": [
    "#when you have to create an 1D array in a range\n",
    "ar2 = np.arange(1,10)\n",
    "ar2"
   ]
  },
  {
   "cell_type": "code",
   "execution_count": null,
   "id": "148da86e",
   "metadata": {},
   "outputs": [
    {
     "data": {
      "text/plain": [
       "array([1., 1., 1., 1., 1.])"
      ]
     },
     "execution_count": 10,
     "metadata": {},
     "output_type": "execute_result"
    }
   ],
   "source": [
    "ar3= np.ones(5)\n",
    "ar3"
   ]
  },
  {
   "cell_type": "code",
   "execution_count": null,
   "id": "401f6864",
   "metadata": {},
   "outputs": [
    {
     "data": {
      "text/plain": [
       "array([0., 0., 0., 0., 0., 0., 0., 0., 0., 0.])"
      ]
     },
     "execution_count": 13,
     "metadata": {},
     "output_type": "execute_result"
    }
   ],
   "source": [
    "ar4 = np.zeros(10)\n",
    "ar4"
   ]
  },
  {
   "cell_type": "code",
   "execution_count": null,
   "id": "e83363d5",
   "metadata": {},
   "outputs": [
    {
     "data": {
      "text/plain": [
       "array([[0., 0., 0.],\n",
       "       [0., 0., 0.]])"
      ]
     },
     "execution_count": 15,
     "metadata": {},
     "output_type": "execute_result"
    }
   ],
   "source": [
    "##2d array\n",
    "arr5 = np.zeros((2,3))\n",
    "arr5\n",
    "# to check the dimension of error we can count brackets in output , like in this here es two breackets"
   ]
  },
  {
   "cell_type": "code",
   "execution_count": null,
   "id": "8ba117f9",
   "metadata": {},
   "outputs": [
    {
     "data": {
      "text/plain": [
       "array([ 1.,  2.,  3.,  4.,  5.,  6.,  7.,  8.,  9., 10., 11., 12., 13.,\n",
       "       14., 15., 16., 17., 18., 19., 20., 21., 22., 23., 24., 25., 26.,\n",
       "       27., 28., 29., 30., 31., 32., 33., 34., 35., 36., 37., 38., 39.,\n",
       "       40., 41., 42., 43., 44., 45., 46., 47., 48., 49., 50.])"
      ]
     },
     "execution_count": 17,
     "metadata": {},
     "output_type": "execute_result"
    }
   ],
   "source": [
    "arr6 = np.linspace(1,50,50)\n",
    "arr6"
   ]
  },
  {
   "cell_type": "code",
   "execution_count": null,
   "id": "b0e5aaa2",
   "metadata": {},
   "outputs": [
    {
     "data": {
      "text/plain": [
       "array([[ 1,  2,  3,  4,  5,  6],\n",
       "       [ 7,  8,  9, 10, 11, 12],\n",
       "       [13, 14, 15, 16, 17, 18],\n",
       "       [19, 20, 21, 22, 23, 24],\n",
       "       [25, 26, 27, 28, 29, 30]])"
      ]
     },
     "execution_count": 20,
     "metadata": {},
     "output_type": "execute_result"
    }
   ],
   "source": [
    "# 1d to 2d\n",
    "# reshape is use to change the shape of the array like in this it is changing it to a 2d from 1d\n",
    "arr7 = np.arange(1,31).reshape(5,6)\n",
    "arr7"
   ]
  },
  {
   "cell_type": "code",
   "execution_count": null,
   "id": "7c979a03",
   "metadata": {},
   "outputs": [
    {
     "data": {
      "text/plain": [
       "array([84, 93,  6, 92, 58, 53, 66, 83, 44, 35], dtype=int32)"
      ]
     },
     "execution_count": 25,
     "metadata": {},
     "output_type": "execute_result"
    }
   ],
   "source": [
    "#random is use to generate random \n",
    "#randint ---> it give random integer number\n",
    "arr8 = np.random.randint(1,100,10)\n",
    "arr8"
   ]
  },
  {
   "cell_type": "code",
   "execution_count": null,
   "id": "888df76e",
   "metadata": {},
   "outputs": [
    {
     "data": {
      "text/plain": [
       "array([0.20725838, 0.08378962])"
      ]
     },
     "execution_count": 24,
     "metadata": {},
     "output_type": "execute_result"
    }
   ],
   "source": [
    "arr9 = np.random.random(10)    # this give a result in float\n",
    "arr9"
   ]
  },
  {
   "cell_type": "code",
   "execution_count": null,
   "id": "5a4dc404",
   "metadata": {},
   "outputs": [
    {
     "data": {
      "text/plain": [
       "array([[ 1,  2,  3,  4,  5,  6,  7,  8,  9, 10],\n",
       "       [11, 12, 13, 14, 15, 16, 17, 18, 19, 20],\n",
       "       [21, 22, 23, 24, 25, 26, 27, 28, 29, 30],\n",
       "       [31, 32, 33, 34, 35, 36, 37, 38, 39, 40],\n",
       "       [41, 42, 43, 44, 45, 46, 47, 48, 49, 50],\n",
       "       [51, 52, 53, 54, 55, 56, 57, 58, 59, 60]])"
      ]
     },
     "execution_count": 29,
     "metadata": {},
     "output_type": "execute_result"
    }
   ],
   "source": [
    "# arr= np.zeros((6,10))\n",
    "arr10= np.arange(1,61).reshape(6,10)\n",
    "10"
   ]
  },
  {
   "cell_type": "code",
   "execution_count": 65,
   "id": "f450ff57",
   "metadata": {},
   "outputs": [
    {
     "name": "stdout",
     "output_type": "stream",
     "text": [
      "(12, 5)\n",
      "int64\n",
      "60\n",
      "2\n"
     ]
    },
    {
     "data": {
      "text/plain": [
       "(5, 12)"
      ]
     },
     "execution_count": 65,
     "metadata": {},
     "output_type": "execute_result"
    }
   ],
   "source": [
    "arr11 = np.arange(60).reshape(12,5)\n",
    "print(arr11.shape)\n",
    "print(arr11.dtype)\n",
    "print(arr11.size)\n",
    "print(arr11.ndim )# it give the dimension like 1d,2d\n",
    "arr12 = arr11.T.shape\n",
    "arr12"
   ]
  },
  {
   "cell_type": "code",
   "execution_count": 2,
   "id": "d3198f4e",
   "metadata": {},
   "outputs": [
    {
     "data": {
      "text/plain": [
       "array([[ 0,  1,  2,  3,  4],\n",
       "       [ 5,  6,  7,  8,  9],\n",
       "       [10, 11, 12, 13, 14],\n",
       "       [15, 16, 17, 18, 19],\n",
       "       [20, 21, 22, 23, 24],\n",
       "       [25, 26, 27, 28, 29],\n",
       "       [30, 31, 32, 33, 34],\n",
       "       [35, 36, 37, 38, 39],\n",
       "       [40, 41, 42, 43, 44],\n",
       "       [45, 46, 47, 48, 49],\n",
       "       [50, 51, 52, 53, 54],\n",
       "       [55, 56, 57, 58, 59]])"
      ]
     },
     "execution_count": 2,
     "metadata": {},
     "output_type": "execute_result"
    }
   ],
   "source": [
    "## multidimesnion  array convert id\n",
    "arr11 = np.arange(60).reshape(12,5)\n",
    "# arr11.ravel()    ### covert to 1d\n",
    "arr11.flatten()    ##both are same \n",
    "arr11"
   ]
  },
  {
   "cell_type": "code",
   "execution_count": 43,
   "id": "64241934",
   "metadata": {},
   "outputs": [
    {
     "data": {
      "text/plain": [
       "np.int64(4)"
      ]
     },
     "execution_count": 43,
     "metadata": {},
     "output_type": "execute_result"
    }
   ],
   "source": [
    "## indexing and slicing\n",
    "# 1d array\n",
    "arr = np.array((1,2,3,4,5))\n",
    "arr[3]"
   ]
  },
  {
   "cell_type": "code",
   "execution_count": 67,
   "id": "a978a427",
   "metadata": {},
   "outputs": [
    {
     "name": "stdout",
     "output_type": "stream",
     "text": [
      "[[ 1  2  3  4  5  6  7  8  9 10]\n",
      " [11 12 13 14 15 16 17 18 19 20]\n",
      " [21 22 23 24 25 26 27 28 29 30]\n",
      " [31 32 33 34 35 36 37 38 39 40]\n",
      " [41 42 43 44 45 46 47 48 49 50]\n",
      " [51 52 53 54 55 56 57 58 59 60]]\n"
     ]
    }
   ],
   "source": [
    "## 2d indesing and slicing -----[row starting: rowend:rowskip, col start: colend : col skip]\n",
    "arr15= np.arange(1,61).reshape(6,10)\n",
    "print(arr15)\n",
    "arr15[3:6 ,2:]\n",
    "arr15[3:4,2:3]=100"
   ]
  },
  {
   "cell_type": "code",
   "execution_count": null,
   "id": "f60fd78d",
   "metadata": {},
   "outputs": [
    {
     "data": {
      "text/plain": [
       "array([[  1,   2,   3,   4,   5,   6,   7,   8,   9,  10],\n",
       "       [ 11,  12,  13,  14,  15,  16,  17,  18,  19,  20],\n",
       "       [ 21,  22,  23,  24,  25,  26,  27,  28,  29,  30],\n",
       "       [ 31,  32, 100,  34,  35,  36,  37,  38,  39,  40],\n",
       "       [ 41,  42,  43,  44,  45,  46,  47,  48,  49,  50],\n",
       "       [ 51,  52,  53,  54,  55,  56,  57,  58,  59,  60]])"
      ]
     },
     "execution_count": 58,
     "metadata": {},
     "output_type": "execute_result"
    }
   ],
   "source": [
    "arr15"
   ]
  },
  {
   "cell_type": "code",
   "execution_count": 73,
   "id": "166e6fd4",
   "metadata": {},
   "outputs": [
    {
     "name": "stdout",
     "output_type": "stream",
     "text": [
      "<class 'numpy.int64'>\n"
     ]
    }
   ],
   "source": [
    "arr15= np.arange(1,61).reshape(6,10)\n",
    "print(type(arr15[4:5,9:][0][0]))\n"
   ]
  },
  {
   "cell_type": "code",
   "execution_count": 76,
   "id": "0bacb50f",
   "metadata": {},
   "outputs": [
    {
     "data": {
      "text/plain": [
       "array([[60, 59, 58, 57, 56, 55, 54, 53, 52, 51],\n",
       "       [50, 49, 48, 47, 46, 45, 44, 43, 42, 41],\n",
       "       [40, 39, 38, 37, 36, 35, 34, 33, 32, 31],\n",
       "       [30, 29, 28, 27, 26, 25, 24, 23, 22, 21],\n",
       "       [20, 19, 18, 17, 16, 15, 14, 13, 12, 11],\n",
       "       [10,  9,  8,  7,  6,  5,  4,  3,  2,  1]])"
      ]
     },
     "execution_count": 76,
     "metadata": {},
     "output_type": "execute_result"
    }
   ],
   "source": [
    "arr15[::-1,::-1]\n"
   ]
  },
  {
   "cell_type": "code",
   "execution_count": null,
   "id": "8949719d",
   "metadata": {},
   "outputs": [],
   "source": [
    "#### slicing in 3d aarray\n",
    "#syntax -\n",
    "#(table start : table end :table skip. row start : row end :row skip, colstart: col end :col skip)"
   ]
  }
 ],
 "metadata": {
  "kernelspec": {
   "display_name": "Python 3",
   "language": "python",
   "name": "python3"
  },
  "language_info": {
   "codemirror_mode": {
    "name": "ipython",
    "version": 3
   },
   "file_extension": ".py",
   "mimetype": "text/x-python",
   "name": "python",
   "nbconvert_exporter": "python",
   "pygments_lexer": "ipython3",
   "version": "3.11.9"
  }
 },
 "nbformat": 4,
 "nbformat_minor": 5
}
