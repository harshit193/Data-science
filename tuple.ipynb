{
 "cells": [
  {
   "cell_type": "code",
   "execution_count": 1,
   "id": "89b081e9",
   "metadata": {},
   "outputs": [],
   "source": [
    "##tpl = ordered ,immutable ,allows duplicates,heterogeneous,indexed,sliceable\n",
    "##tpl = ()"
   ]
  },
  {
   "cell_type": "code",
   "execution_count": 2,
   "id": "bad83ac8",
   "metadata": {},
   "outputs": [
    {
     "name": "stdout",
     "output_type": "stream",
     "text": [
      "('red', 'blue', 'green', 'black', 1, 2, 3)\n",
      "<class 'tuple'>\n"
     ]
    }
   ],
   "source": [
    "tpl = (\"red\",\"blue\",\"green\",\"black\",1,2,3)\n",
    "print(tpl)\n",
    "print(type(tpl))"
   ]
  },
  {
   "cell_type": "code",
   "execution_count": null,
   "id": "83d017e1",
   "metadata": {},
   "outputs": [],
   "source": []
  }
 ],
 "metadata": {
  "kernelspec": {
   "display_name": "Python 3",
   "language": "python",
   "name": "python3"
  },
  "language_info": {
   "codemirror_mode": {
    "name": "ipython",
    "version": 3
   },
   "file_extension": ".py",
   "mimetype": "text/x-python",
   "name": "python",
   "nbconvert_exporter": "python",
   "pygments_lexer": "ipython3",
   "version": "3.11.9"
  }
 },
 "nbformat": 4,
 "nbformat_minor": 5
}
