{
 "cells": [
  {
   "cell_type": "code",
   "execution_count": null,
   "id": "57f9240c",
   "metadata": {},
   "outputs": [],
   "source": [
    "#module --importing other python files into current file\n",
    "#module is a single python file(.py)\n",
    "\n",
    "# there are 3 types of modules\n",
    "# 1. built-in modules -os , datetime , re(regular expression), math\n",
    "# 2. third-party modules -- pandas, numpy\n",
    "# 3. user-defined modules---"
   ]
  },
  {
   "cell_type": "code",
   "execution_count": 2,
   "id": "73718aa4",
   "metadata": {},
   "outputs": [],
   "source": [
    "import os\n",
    "from functools import reduce"
   ]
  },
  {
   "cell_type": "code",
   "execution_count": 6,
   "id": "4738046c",
   "metadata": {},
   "outputs": [
    {
     "name": "stdout",
     "output_type": "stream",
     "text": [
      "5\n"
     ]
    }
   ],
   "source": [
    "from basics import addfunction\n",
    "print(addfunction(2,3))"
   ]
  },
  {
   "cell_type": "code",
   "execution_count": null,
   "id": "1d854a48",
   "metadata": {},
   "outputs": [],
   "source": []
  }
 ],
 "metadata": {
  "kernelspec": {
   "display_name": "Python 3",
   "language": "python",
   "name": "python3"
  },
  "language_info": {
   "codemirror_mode": {
    "name": "ipython",
    "version": 3
   },
   "file_extension": ".py",
   "mimetype": "text/x-python",
   "name": "python",
   "nbconvert_exporter": "python",
   "pygments_lexer": "ipython3",
   "version": "3.11.9"
  }
 },
 "nbformat": 4,
 "nbformat_minor": 5
}
