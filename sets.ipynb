{
 "cells": [
  {
   "cell_type": "code",
   "execution_count": 1,
   "id": "9c0e5702",
   "metadata": {},
   "outputs": [],
   "source": [
    "##sets - {}\n",
    "##unordered ,unindexed ,no duplicates"
   ]
  },
  {
   "cell_type": "code",
   "execution_count": 2,
   "id": "cb722167",
   "metadata": {},
   "outputs": [
    {
     "name": "stdout",
     "output_type": "stream",
     "text": [
      "{True, 2, 3, 'hello'}\n",
      "<class 'set'>\n"
     ]
    }
   ],
   "source": [
    "st = {3,2,\"hello\",True,\"hello\",1}\n",
    "print(st)\n",
    "print(type(st))"
   ]
  },
  {
   "cell_type": "code",
   "execution_count": 3,
   "id": "de941184",
   "metadata": {},
   "outputs": [
    {
     "name": "stdout",
     "output_type": "stream",
     "text": [
      "{True, 2, 3, 'hello'}\n"
     ]
    }
   ],
   "source": [
    "# st.add(\"python\")\n",
    "# st.update([1,2,3,4,5])\n",
    "# st.remove(\"java\")\n",
    "# st.pop()\n",
    "# st.discard(\"java\")\n",
    "\n",
    "print(st)"
   ]
  },
  {
   "cell_type": "code",
   "execution_count": 4,
   "id": "34f03e79",
   "metadata": {},
   "outputs": [
    {
     "ename": "SyntaxError",
     "evalue": "invalid syntax (2469715568.py, line 35)",
     "output_type": "error",
     "traceback": [
      "  \u001b[36mCell\u001b[39m\u001b[36m \u001b[39m\u001b[32mIn[4]\u001b[39m\u001b[32m, line 35\u001b[39m\n\u001b[31m    \u001b[39m\u001b[31ma.\u001b[39m\n      ^\n\u001b[31mSyntaxError\u001b[39m\u001b[31m:\u001b[39m invalid syntax\n"
     ]
    }
   ],
   "source": [
    "a = {1,2,3}\n",
    "b = {3,4,5}\n",
    "# print(a.union(b))\n",
    "# print(a.intersection(b))\n",
    "# ##difference \n",
    "# #return the elements infirst set  that are not in second set\n",
    "# print(a.difference(b))\n",
    "# print(b.difference(a))\n",
    "# ##symmetric difference\n",
    "# #return the elemnts in either set but not both\n",
    "# print(a.symmetric_difference(b))\n",
    "# ##subset \n",
    "# ##check if all the elemnts of one set are in another \n",
    "# print(a.issubset(b))\n",
    "# # print(b.issubset(a))\n",
    "# ##superset --check if one set contains all the\n",
    "# #  elements of another\n",
    "# print(a.issuperset(b))\n",
    "# print(b.issuperset(a))\n",
    "##disjoint --check if two sets have no common elements\n",
    "# print(a.isdisjoint(b))\n",
    "\n",
    "##intersection_update \n",
    "#update the set with the intersection of itself and another\n",
    "a.intersection_update(b)\n",
    "print(a)\n",
    "##difference_update\n",
    "#update the set with the difference of itself and another\n",
    "# a.difference_update(b)\n",
    "# print(a)\n",
    "##symmetric_difference_update\n",
    "#update the set with the symmetric difference of itself and another\n",
    "# a.symmetric_difference_update(b)\n",
    "# print(a)\n",
    "a."
   ]
  },
  {
   "cell_type": "code",
   "execution_count": null,
   "id": "5cc53c5a",
   "metadata": {},
   "outputs": [],
   "source": []
  }
 ],
 "metadata": {
  "kernelspec": {
   "display_name": "Python 3",
   "language": "python",
   "name": "python3"
  },
  "language_info": {
   "codemirror_mode": {
    "name": "ipython",
    "version": 3
   },
   "file_extension": ".py",
   "mimetype": "text/x-python",
   "name": "python",
   "nbconvert_exporter": "python",
   "pygments_lexer": "ipython3",
   "version": "3.11.9"
  }
 },
 "nbformat": 4,
 "nbformat_minor": 5
}
