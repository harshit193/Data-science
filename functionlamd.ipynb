{
 "cells": [
  {
   "cell_type": "code",
   "execution_count": 2,
   "id": "4c8f1e1f",
   "metadata": {},
   "outputs": [],
   "source": [
    "#lambda function ---> small anonmous function\n",
    "#lamba arguments : exoression"
   ]
  },
  {
   "cell_type": "code",
   "execution_count": 4,
   "id": "e2fc8922",
   "metadata": {},
   "outputs": [
    {
     "data": {
      "text/plain": [
       "15"
      ]
     },
     "execution_count": 4,
     "metadata": {},
     "output_type": "execute_result"
    }
   ],
   "source": [
    "x=lambda a:a + 10\n",
    "x(5)"
   ]
  },
  {
   "cell_type": "code",
   "execution_count": 8,
   "id": "02b632e4",
   "metadata": {},
   "outputs": [
    {
     "data": {
      "text/plain": [
       "15"
      ]
     },
     "execution_count": 8,
     "metadata": {},
     "output_type": "execute_result"
    }
   ],
   "source": [
    "x= lambda a,b : a+b\n",
    "x(5,10)"
   ]
  },
  {
   "cell_type": "code",
   "execution_count": null,
   "id": "fa1216fc",
   "metadata": {},
   "outputs": [
    {
     "name": "stdout",
     "output_type": "stream",
     "text": [
      "[1, 4, 9, 16, 25]\n"
     ]
    }
   ],
   "source": [
    "##map function ---->  map(function,iterable) \n",
    "def sq(num):\n",
    "    return num*num\n",
    "\n",
    "lst=[1,2,3,4,5]\n",
    "result = map(sq,lst)\n",
    "print(list(result))"
   ]
  },
  {
   "cell_type": "code",
   "execution_count": null,
   "id": "48996092",
   "metadata": {},
   "outputs": [
    {
     "name": "stdout",
     "output_type": "stream",
     "text": [
      "[1, 4, 9, 16, 25]\n"
     ]
    }
   ],
   "source": [
    "#map function with lambda\n",
    "lst =[1,2,3,4,5]\n",
    "result=map(lambda num:num*num,lst)\n",
    "print(list(result))"
   ]
  },
  {
   "cell_type": "code",
   "execution_count": 16,
   "id": "c64c702c",
   "metadata": {},
   "outputs": [
    {
     "name": "stdout",
     "output_type": "stream",
     "text": [
      "[2, 4]\n"
     ]
    }
   ],
   "source": [
    "##filter ----> filter(function, iterable)\n",
    "lst=[1,2,3,4,5]\n",
    "result=filter(lambda num : num%2==0, lst)\n",
    "print(list(result))"
   ]
  },
  {
   "cell_type": "code",
   "execution_count": 17,
   "id": "4e53503c",
   "metadata": {},
   "outputs": [
    {
     "name": "stdout",
     "output_type": "stream",
     "text": [
      "15\n"
     ]
    }
   ],
   "source": [
    "#reduce\n",
    "from functools import reduce \n",
    "lst= [1,2,3,4,5]\n",
    "result=reduce(lambda num1,num2:num1+num2,lst)\n",
    "print(result)"
   ]
  },
  {
   "cell_type": "code",
   "execution_count": 19,
   "id": "a5d71fe8",
   "metadata": {},
   "outputs": [],
   "source": [
    "#from left to right\n",
    "#[3,3,4,5]----[6,4,5]-----[10,5]---[15]"
   ]
  },
  {
   "cell_type": "code",
   "execution_count": 22,
   "id": "a2ce335c",
   "metadata": {},
   "outputs": [
    {
     "name": "stdout",
     "output_type": "stream",
     "text": [
      "[(10, 'mohan'), (11, 'rohan'), (12, 'ram')]\n"
     ]
    }
   ],
   "source": [
    "##enumerate function\n",
    "lst = [ \"mohan\",\"rohan\",\"ram\"]\n",
    "# result = enumerate(lst)\n",
    "result= enumerate(lst,start=10)\n",
    "print(list(result))\n"
   ]
  },
  {
   "cell_type": "code",
   "execution_count": 23,
   "id": "d5ec9176",
   "metadata": {},
   "outputs": [
    {
     "name": "stdout",
     "output_type": "stream",
     "text": [
      "[('mohan ', 1), ('sohan', 2), ('ram', 3)]\n"
     ]
    }
   ],
   "source": [
    "#zip function ----it is use to combine to or more iterable\n",
    "lst1 =[\"mohan \",\"sohan\",\"ram\"]\n",
    "lst2=[1,2,3]\n",
    "result=zip(lst1,lst2)\n",
    "print(list(result))\n"
   ]
  },
  {
   "cell_type": "code",
   "execution_count": null,
   "id": "9ce3121c",
   "metadata": {},
   "outputs": [
    {
     "name": "stdout",
     "output_type": "stream",
     "text": [
      "[('mohan ', 1), ('sohan', 2)]\n"
     ]
    }
   ],
   "source": [
    "lst1 =[\"mohan \",\"sohan\",\"ram\"]\n",
    "lst2=[1,2]\n",
    "result=zip(lst1,lst2)\n",
    "print(list(result))   #in this we are taking only two arguments so it is only giving two values\n"
   ]
  },
  {
   "cell_type": "code",
   "execution_count": null,
   "id": "88f00595",
   "metadata": {},
   "outputs": [
    {
     "name": "stdout",
     "output_type": "stream",
     "text": [
      "['mohan ', 'sohan']\n",
      "[1, 2]\n"
     ]
    }
   ],
   "source": [
    "#unzipped\n",
    "zipped = [('mohan ', 1), ('sohan', 2)]\n",
    "result,number = zip(*zipped)\n",
    "print(list(result))\n",
    "print(list(number))"
   ]
  },
  {
   "cell_type": "code",
   "execution_count": null,
   "id": "00f6f543",
   "metadata": {},
   "outputs": [],
   "source": []
  }
 ],
 "metadata": {
  "kernelspec": {
   "display_name": "Python 3",
   "language": "python",
   "name": "python3"
  },
  "language_info": {
   "codemirror_mode": {
    "name": "ipython",
    "version": 3
   },
   "file_extension": ".py",
   "mimetype": "text/x-python",
   "name": "python",
   "nbconvert_exporter": "python",
   "pygments_lexer": "ipython3",
   "version": "3.11.9"
  }
 },
 "nbformat": 4,
 "nbformat_minor": 5
}
