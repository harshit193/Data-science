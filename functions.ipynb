{
 "cells": [
  {
   "cell_type": "code",
   "execution_count": null,
   "id": "38016132",
   "metadata": {},
   "outputs": [],
   "source": []
  },
  {
   "cell_type": "code",
   "execution_count": 1,
   "id": "fc451acb",
   "metadata": {},
   "outputs": [],
   "source": [
    "##function is a block of code that is used to do repeated task and it will execute \n",
    "# only when it is called\n",
    "##2 types of functions\n",
    "##1. user defined functions\n",
    "##2. built in functions"
   ]
  },
  {
   "cell_type": "code",
   "execution_count": 2,
   "id": "a273d716",
   "metadata": {},
   "outputs": [
    {
     "name": "stdout",
     "output_type": "stream",
     "text": [
      "hello from the function\n"
     ]
    }
   ],
   "source": [
    "##user defined functions\n",
    "def hello():\n",
    "    #block of code \n",
    "    print(\"hello from the function\")\n",
    "\n",
    "hello() ##calling a function "
   ]
  },
  {
   "cell_type": "code",
   "execution_count": 3,
   "id": "8f8f5f2d",
   "metadata": {},
   "outputs": [
    {
     "name": "stdout",
     "output_type": "stream",
     "text": [
      "30\n"
     ]
    }
   ],
   "source": [
    "def addd():\n",
    "    a = 10 \n",
    "    b = 20 \n",
    "    c = a+b \n",
    "    print(c)\n",
    "    \n",
    "addd()"
   ]
  },
  {
   "cell_type": "code",
   "execution_count": 4,
   "id": "ea457276",
   "metadata": {},
   "outputs": [
    {
     "name": "stdout",
     "output_type": "stream",
     "text": [
      "127460412029\n"
     ]
    }
   ],
   "source": [
    "##parameter and argument\n",
    "def addd(a,b):\n",
    "    print(a+b)\n",
    "\n",
    "addd(78238217,127382173812)"
   ]
  },
  {
   "cell_type": "code",
   "execution_count": 5,
   "id": "2bb142f1",
   "metadata": {},
   "outputs": [
    {
     "name": "stdout",
     "output_type": "stream",
     "text": [
      "the youngest child is ram\n"
     ]
    }
   ],
   "source": [
    "##arbitary arguments  --- args -- *\n",
    "def child(*kids):\n",
    "    print(\"the youngest child is \" + kids[2])\n",
    "\n",
    "child(\"mohan\",\"rohan\",\"ram\")"
   ]
  },
  {
   "cell_type": "code",
   "execution_count": 6,
   "id": "2f406452",
   "metadata": {},
   "outputs": [
    {
     "name": "stdout",
     "output_type": "stream",
     "text": [
      "the youngest child is mohan\n"
     ]
    }
   ],
   "source": [
    "##keyword arguments -- \n",
    "def child(child1,child2,child3):\n",
    "    print(\"the youngest child is \" + child3)\n",
    "\n",
    "child(child3=\"mohan\",child2=\"rohan\",child1=\"ram\")"
   ]
  },
  {
   "cell_type": "code",
   "execution_count": 7,
   "id": "4910cd3c",
   "metadata": {},
   "outputs": [
    {
     "name": "stdout",
     "output_type": "stream",
     "text": [
      "the youngest child is mohan\n"
     ]
    }
   ],
   "source": [
    "#arbitary keyword arguments -- **kwargs\n",
    "\n",
    "def child(**kids):\n",
    "    print(\"the youngest child is \" + kids[\"child3\"])\n",
    "\n",
    "child(child3=\"mohan\",child2=\"rohan\",child1=\"ram\")"
   ]
  },
  {
   "cell_type": "code",
   "execution_count": 8,
   "id": "beefc403",
   "metadata": {},
   "outputs": [
    {
     "name": "stdout",
     "output_type": "stream",
     "text": [
      "my hobby is cricket\n",
      "my hobby is coding\n"
     ]
    }
   ],
   "source": [
    "##default parameter value\n",
    "def hobby(name=\"coding\"):\n",
    "    print(\"my hobby is \" + name)\n",
    "\n",
    "hobby(\"cricket\")\n",
    "hobby()"
   ]
  },
  {
   "cell_type": "code",
   "execution_count": 9,
   "id": "a833408c",
   "metadata": {},
   "outputs": [
    {
     "name": "stdout",
     "output_type": "stream",
     "text": [
      "mohan\n",
      "rohan\n",
      "ram\n"
     ]
    }
   ],
   "source": [
    "#passing list as an argument\n",
    "def lst(name):\n",
    "    for i in name:\n",
    "        print(i)\n",
    "\n",
    "lst([\"mohan\",\"rohan\",\"ram\"])\n"
   ]
  },
  {
   "cell_type": "code",
   "execution_count": 10,
   "id": "f7c011ce",
   "metadata": {},
   "outputs": [
    {
     "name": "stdout",
     "output_type": "stream",
     "text": [
      "3.0\n"
     ]
    }
   ],
   "source": [
    "##avg function\n",
    "def avgg(name):\n",
    "    print(sum(name)/len(name))\n",
    "\n",
    "avgg([1,2,3,4,5])"
   ]
  },
  {
   "cell_type": "code",
   "execution_count": 11,
   "id": "3642578d",
   "metadata": {},
   "outputs": [],
   "source": [
    "\n",
    "##lambda function --- small anonymous functions\n",
    "##lambda arguments : expression\n"
   ]
  },
  {
   "cell_type": "code",
   "execution_count": 12,
   "id": "e5b9dfe9",
   "metadata": {},
   "outputs": [
    {
     "data": {
      "text/plain": [
       "25"
      ]
     },
     "execution_count": 12,
     "metadata": {},
     "output_type": "execute_result"
    }
   ],
   "source": [
    "x = lambda a : a*a\n",
    "x(5)"
   ]
  },
  {
   "cell_type": "code",
   "execution_count": 13,
   "id": "c3ab00dd",
   "metadata": {},
   "outputs": [
    {
     "name": "stdout",
     "output_type": "stream",
     "text": [
      "[1, 4, 9, 16, 25]\n"
     ]
    }
   ],
   "source": [
    "##map --- map(function,iterable)\n",
    "# def sq(num):\n",
    "#     return num*num\n",
    "\n",
    "lst = [1,2,3,4,5]\n",
    "result = map(lambda num : num*num,lst)\n",
    "print(list(result))"
   ]
  },
  {
   "cell_type": "code",
   "execution_count": 14,
   "id": "ba4c7ce1",
   "metadata": {},
   "outputs": [
    {
     "name": "stdout",
     "output_type": "stream",
     "text": [
      "[2, 4]\n"
     ]
    }
   ],
   "source": [
    "##filter --- filter(function,iterable)\n",
    "lst = [1,2,3,4,5]\n",
    "result = filter(lambda num : num%2==0,lst)\n",
    "print(list(result))"
   ]
  },
  {
   "cell_type": "code",
   "execution_count": null,
   "id": "1a3fea94",
   "metadata": {},
   "outputs": [],
   "source": []
  }
 ],
 "metadata": {
  "kernelspec": {
   "display_name": "Python 3",
   "language": "python",
   "name": "python3"
  },
  "language_info": {
   "codemirror_mode": {
    "name": "ipython",
    "version": 3
   },
   "file_extension": ".py",
   "mimetype": "text/x-python",
   "name": "python",
   "nbconvert_exporter": "python",
   "pygments_lexer": "ipython3",
   "version": "3.11.9"
  }
 },
 "nbformat": 4,
 "nbformat_minor": 5
}
