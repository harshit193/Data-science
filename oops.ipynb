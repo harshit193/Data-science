{
 "cells": [
  {
   "cell_type": "code",
   "execution_count": null,
   "id": "830bdba4",
   "metadata": {},
   "outputs": [],
   "source": [
    "##class , object , method\n",
    "## 4 types of oops\n",
    "# inheritance ---single ,multiple , multilevel, hyerarchial, hybrid\n",
    "# , polymorphism , encapsulation"
   ]
  },
  {
   "cell_type": "code",
   "execution_count": 2,
   "id": "a73094b9",
   "metadata": {},
   "outputs": [],
   "source": [
    "## class ---> blueprint of object\n",
    "##object ---> instance of object"
   ]
  },
  {
   "cell_type": "code",
   "execution_count": null,
   "id": "160e8389",
   "metadata": {},
   "outputs": [
    {
     "data": {
      "text/plain": [
       "30"
      ]
     },
     "execution_count": 15,
     "metadata": {},
     "output_type": "execute_result"
    }
   ],
   "source": [
    "class car:\n",
    "    ## class variable\n",
    "    num1=10\n",
    "    num2=20\n",
    "    name=\"abc\"\n",
    "    model=\"xyz\"\n",
    "\n",
    "#function vs method   ( jab bhi ek class ke ander function define kr dete h toh use method bolte ha)\n",
    "#self\n",
    "    def add (self):\n",
    "        return self.num1 + self.num2\n",
    "\n",
    "    def display(self):    #agar class k ander hi method use krne h iselye self use krte h jese num name use kr rhe h usme self kaam aarha hai\n",
    "         return self.name , self.model\n",
    "#obj ==\n",
    "obj=car()\n",
    "obj.display( )\n",
    "obj.add()\n",
    "#jab user se input chaiye toh constructor use krte hai jo ki init hai"
   ]
  },
  {
   "cell_type": "code",
   "execution_count": 17,
   "id": "2c6b7e0f",
   "metadata": {},
   "outputs": [
    {
     "data": {
      "text/plain": [
       "('lion', 10)"
      ]
     },
     "execution_count": 17,
     "metadata": {},
     "output_type": "execute_result"
    }
   ],
   "source": [
    "## init-->constructor----> initialize the variable\n",
    "class animal:\n",
    "    def __init__(self,name,age):\n",
    "        self.name = name\n",
    "        self.age = age\n",
    "    def display(self):\n",
    "        return self.name , self.age\n",
    "obj=animal(\"lion\",10)\n",
    "obj.display()\n",
    "        "
   ]
  },
  {
   "cell_type": "code",
   "execution_count": 1,
   "id": "97e3b1f1",
   "metadata": {},
   "outputs": [
    {
     "name": "stdout",
     "output_type": "stream",
     "text": [
      "car\n",
      "bike\n"
     ]
    }
   ],
   "source": [
    "##inheritance---> single, multiple,multiple,multilevel,hyerarchial,hubrid\n",
    "\n",
    "#single inheritance\n",
    "class car():\n",
    "    def display(self):\n",
    "        return\"car\"\n",
    "class bike(car):\n",
    "    def show(self):\n",
    "        return\"bike\"\n",
    "obj=bike()\n",
    "print(obj.display())\n",
    "print(obj.show())\n"
   ]
  },
  {
   "cell_type": "code",
   "execution_count": 9,
   "id": "9cf9c01a",
   "metadata": {},
   "outputs": [
    {
     "name": "stdout",
     "output_type": "stream",
     "text": [
      "abc\n",
      "1000\n"
     ]
    }
   ],
   "source": [
    "class person:\n",
    "    def __init__(self,name):\n",
    "        self.name = name\n",
    "    def show(self):\n",
    "        return self.name\n",
    "    \n",
    "class employee(person):\n",
    "    def __init__(self,name,salary):\n",
    "        super().__init__(name)   ##parent class se name ki value same use krne liye super keyword use krte h\n",
    "        self.salary = salary \n",
    "    def pesa(self):      #   , isse yeh hota h ki parent calss k method ko use kr leta hai \n",
    "        return self.salary\n",
    "        \n",
    "\n",
    "obj=employee(\"abc\",1000)\n",
    "print(obj.show())\n",
    "print(obj.pesa())\n"
   ]
  },
  {
   "cell_type": "code",
   "execution_count": 13,
   "id": "4bdc1685",
   "metadata": {},
   "outputs": [
    {
     "data": {
      "text/plain": [
       "('tj', 50)"
      ]
     },
     "execution_count": 13,
     "metadata": {},
     "output_type": "execute_result"
    }
   ],
   "source": [
    "##multiple inheritance ---> parent class is more than one inherit by one child class\n",
    "class person:\n",
    "    def __init__(self,name):\n",
    "        self.name = name\n",
    "    def show(self):\n",
    "        return self.name\n",
    "    \n",
    "class employee(person):\n",
    "    def __init__(self,name,salary):\n",
    "        super().__init__(name)  \n",
    "        self.salary = salary \n",
    "    \n",
    "class job():\n",
    "    def __init__(self,salary):\n",
    "        self.salary = salary\n",
    "\n",
    "class employeepersonjob(employee,job):\n",
    "    def __init__(self, name, salary):\n",
    "        employee.__init__(self,name,salary)\n",
    "        job.__init__(self,salary)\n",
    "    def display(self):\n",
    "        return self.name , self.salary\n",
    "\n",
    "obj=employeepersonjob(\"tj\",50)\n",
    "obj.display()\n",
    "     \n",
    "        "
   ]
  },
  {
   "cell_type": "code",
   "execution_count": 14,
   "id": "89c6a255",
   "metadata": {},
   "outputs": [
    {
     "ename": "SyntaxError",
     "evalue": "invalid syntax (2309072027.py, line 16)",
     "output_type": "error",
     "traceback": [
      "  \u001b[36mCell\u001b[39m\u001b[36m \u001b[39m\u001b[32mIn[14]\u001b[39m\u001b[32m, line 16\u001b[39m\n\u001b[31m    \u001b[39m\u001b[31mobj=\u001b[39m\n        ^\n\u001b[31mSyntaxError\u001b[39m\u001b[31m:\u001b[39m invalid syntax\n"
     ]
    }
   ],
   "source": [
    "##multilevel  --A--B--c\n",
    "class person:\n",
    "    def __init__(self,name):\n",
    "        self.name = name\n",
    "    def show(self):\n",
    "        return self.name\n",
    "    \n",
    "class employee(person):\n",
    "    def __init__(self,name,salary):\n",
    "        super().__init__(name)  \n",
    "        self.salary = salary \n",
    "    \n",
    "class job():\n",
    "    def __init__(self,salary):\n",
    "        self.salary = salary\n",
    "obj=\n"
   ]
  },
  {
   "cell_type": "code",
   "execution_count": 21,
   "id": "77df432a",
   "metadata": {},
   "outputs": [
    {
     "name": "stdout",
     "output_type": "stream",
     "text": [
      "meow\n",
      "bark\n"
     ]
    }
   ],
   "source": [
    "#polymorphism ------many forms(ek kaam ko krne k diff-diff tarike)------same function or method behave\n",
    "#  differently based on input\n",
    "\n",
    "class cat():\n",
    "    def sound(self):\n",
    "        return \"meow\"\n",
    "    \n",
    "class dog():\n",
    "    def sound(self):\n",
    "        return \"bark\"\n",
    "    \n",
    "def make_sound(animal):\n",
    "    return animal.sound()\n",
    "    \n",
    "cat=cat()\n",
    "dog= dog()\n",
    "\n",
    "print(make_sound(cat))\n",
    "print(make_sound(dog))\n",
    "    \n"
   ]
  },
  {
   "cell_type": "code",
   "execution_count": null,
   "id": "7cbd3aee",
   "metadata": {},
   "outputs": [
    {
     "ename": "TypeError",
     "evalue": "sq() takes no arguments",
     "output_type": "error",
     "traceback": [
      "\u001b[31m---------------------------------------------------------------------------\u001b[39m",
      "\u001b[31mTypeError\u001b[39m                                 Traceback (most recent call last)",
      "\u001b[36mCell\u001b[39m\u001b[36m \u001b[39m\u001b[32mIn[23]\u001b[39m\u001b[32m, line 12\u001b[39m\n\u001b[32m      9\u001b[39m \u001b[38;5;28;01mdef\u001b[39;00m\u001b[38;5;250m \u001b[39m\u001b[34marea_of\u001b[39m(shapes):\n\u001b[32m     10\u001b[39m     \u001b[38;5;28;01mreturn\u001b[39;00m shapes.area\n\u001b[32m---> \u001b[39m\u001b[32m12\u001b[39m sq=\u001b[43msq\u001b[49m\u001b[43m(\u001b[49m\u001b[32;43m4\u001b[39;49m\u001b[43m)\u001b[49m\n\u001b[32m     13\u001b[39m rect=rect(\u001b[32m2\u001b[39m,\u001b[32m3\u001b[39m)\n\u001b[32m     15\u001b[39m \u001b[38;5;28mprint\u001b[39m(area_of(sq))\n",
      "\u001b[31mTypeError\u001b[39m: sq() takes no arguments"
     ]
    }
   ],
   "source": [
    "# ##ques shapes\n",
    "# class shapes():\n",
    "#     return area\n",
    "# class sq():\n",
    "#     def area(self):\n",
    "#         return \"side*side\"\n",
    "# class rect():\n",
    "#     def area(self):\n",
    "#         return \"length*breadth\"\n",
    "\n",
    "# def area_of(shapes):\n",
    "#     return shapes.area\n",
    "\n",
    "# shape\n",
    "\n",
    "# sq=sq()\n",
    "# rect=rect()\n",
    "\n",
    "# print(area_of(sq))\n",
    "# print(area_of(rect))\n",
    "    "
   ]
  },
  {
   "cell_type": "code",
   "execution_count": 25,
   "id": "586a0776",
   "metadata": {},
   "outputs": [
    {
     "name": "stdout",
     "output_type": "stream",
     "text": [
      "200\n",
      "78.5\n"
     ]
    }
   ],
   "source": [
    "class shape:\n",
    "    def area(self):\n",
    "        pass\n",
    "class rectangle(shape):\n",
    "    def __init__(self,length,breadth):\n",
    "       self.length =length\n",
    "       self.breadth =breadth\n",
    "    def area(self):\n",
    "        return self.length * self.breadth\n",
    "\n",
    "class circle (shape):\n",
    "    def __init__(self,radius):\n",
    "        self.radius =radius\n",
    "        \n",
    "    def area(self):\n",
    "        return 3.14 * self.radius *self.radius\n",
    "def calculate_area(shape):\n",
    "    return shape.area( )   \n",
    "\n",
    "rectangle =rectangle(10,20)\n",
    "circle=circle(5)\n",
    "\n",
    "print(calculate_area(rectangle)) \n",
    "print(calculate_area(circle))\n",
    "  \n",
    "                          \n"
   ]
  },
  {
   "cell_type": "markdown",
   "id": "46964fb5",
   "metadata": {},
   "source": []
  },
  {
   "cell_type": "code",
   "execution_count": 31,
   "id": "5f8c6989",
   "metadata": {},
   "outputs": [
    {
     "data": {
      "text/plain": [
       "50"
      ]
     },
     "execution_count": 31,
     "metadata": {},
     "output_type": "execute_result"
    }
   ],
   "source": [
    "## encapsulation \n",
    "#it means  hiding  the onternal detials of a class and protrecting data from being access or modified \n",
    "# directly by thr outside world\n",
    "# we can do it by using private and protected variable\n",
    "#private variable -- __name ( two underscore)\n",
    "##cannot be accessible outside the class\n",
    "\n",
    "\n",
    "#protected variable -- _name (one underscore)\n",
    "#  it can be accessible inside the class and its subclasses\n",
    "\n",
    "\n",
    "\n",
    "class student():\n",
    "    def __init__(self,name, marks):\n",
    "        self.name =name\n",
    "        self.__marks =marks\n",
    "    \n",
    "    def get_marks(self):\n",
    "        return self.__marks\n",
    "    \n",
    "    def set_marks(self,marks):\n",
    "        if 0 <=marks <= 100:\n",
    "            self.__marks = marks\n",
    "        else:\n",
    "            print(\"invalid marks\")\n",
    "\n",
    "s = student(\"abc\",50)\n",
    "# s.__marks  -- this will give the error bcz of the private\n",
    "#name mangling is help in accessing the private variables\n",
    "s._student__marks"
   ]
  },
  {
   "cell_type": "code",
   "execution_count": null,
   "id": "025a243f",
   "metadata": {},
   "outputs": [],
   "source": [
    "# abstraction , file handling\n",
    "# dictarator, generator ---/. function in python"
   ]
  }
 ],
 "metadata": {
  "kernelspec": {
   "display_name": "Python 3",
   "language": "python",
   "name": "python3"
  },
  "language_info": {
   "codemirror_mode": {
    "name": "ipython",
    "version": 3
   },
   "file_extension": ".py",
   "mimetype": "text/x-python",
   "name": "python",
   "nbconvert_exporter": "python",
   "pygments_lexer": "ipython3",
   "version": "3.11.9"
  }
 },
 "nbformat": 4,
 "nbformat_minor": 5
}
